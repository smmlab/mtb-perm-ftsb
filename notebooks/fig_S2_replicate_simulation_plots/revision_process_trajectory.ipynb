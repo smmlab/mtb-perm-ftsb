{
 "cells": [
  {
   "cell_type": "code",
   "execution_count": 29,
   "id": "884f7f33-0958-4536-891b-531e5edf8791",
   "metadata": {},
   "outputs": [
    {
     "name": "stdout",
     "output_type": "stream",
     "text": [
      "processing 1 of 1 data directories\n",
      "wrapping\n"
     ]
    }
   ],
   "source": [
    "# PROCESS NEW SHORT TRAJECTORIES (100 ns conventional; 500 ns aMD; 50 ns conventional MD)\n",
    "# Some trajectories have PerM and FtsB in different unit cells so need to rewrap; was not needed for initial submission\n",
    "\n",
    "import MDAnalysis as mda\n",
    "from MDAnalysis import transformations as trans\n",
    "\n",
    "directories to analyze\n",
    "dirs = ['/home/zach/Documents/md/ftsb-perm-zn-aMD/aMD defaults/ftsb-perm/openmm_amd_dual/third_run/',\n",
    "       '/home/zach/Documents/md/ftsb-perm-zn-aMD/aMD defaults/ftsb-perm/openmm_amd_dual/fourth_run/',\n",
    "       '/home/zach/Documents/md/ftsb-perm-zn-aMD/aMD defaults/ftsb-perm/openmm_amd_dual/fifth_run/',\n",
    "       '/home/zach/Documents/md/ftsb-perm-zn-aMD/aMD defaults/ftsb-perm/openmm_amd_dual/sixth_run/']\n",
    "\n",
    "# Can include MEMB segment in exported PDBs or opt not to do this; only protein-only PDBs are analyzed for new data\n",
    "include_membrane = False\n",
    "wrapped = True # Unwrap protein and recenter on protein; quite slow\n",
    "\n",
    "# FTSB and PERM segments were accidentally given inverted names in CHARMM-GUI\n",
    "swap_ftsb_perm = [True, True, True, True]\n",
    "\n",
    "stride = 1 # interval between frames saved; change to 1 later\n",
    "\n",
    "step1 = 20 # number of dcd in prerun\n",
    "step2 = 100 # number of dcd in aMD\n",
    "step3 = 10 # number of dcd in postrun # maybe able to increase to 10 before submission (50 ns each)\n",
    "\n",
    "for i in range(len(dirs)):\n",
    "    \n",
    "    print('processing',i+1,'of',len(dirs),'data directories')\n",
    "    f = dirs[i]\n",
    "    \n",
    "    # load initial conformation pdb and find protein atoms\n",
    "    fNames= []\n",
    "    \n",
    "    # fNames = [f+'step5_input.pdb'] # lacks unit cell; do not include and only use output coordinates after some time\n",
    "    \n",
    "    for j in range(1, step1+1):\n",
    "        fNames.append(f+'step6.7_aMD_prerun_'+str(j)+'.dcd')\n",
    "    for j in range(1, step2+1):\n",
    "        fNames.append(f+'step7_'+str(j)+'.dcd')\n",
    "    for j in range(1, step3+1):\n",
    "        fNames.append(f+'step8_aMD_postrun_'+str(j)+'.dcd')\n",
    "\n",
    "    universe = mda.Universe(f+'step5_input.psf',fNames,in_memory=False)\n",
    "\n",
    "    if swap_ftsb_perm[i]:\n",
    "        ftsb = universe.select_atoms(\"segid PERM\")\n",
    "        ftsb.segments.segids = 'temp'\n",
    "        perm = universe.select_atoms(\"segid FTSB\")\n",
    "        perm.segments.segids = 'PERM'\n",
    "        ftsb = universe.select_atoms(\"segid temp\")\n",
    "        ftsb.segments.segids = 'FTSB'\n",
    "\n",
    "    protein = universe.select_atoms('protein')\n",
    "\n",
    "    if include_membrane:\n",
    "        membrane = universe.select_atoms('segid MEMB')\n",
    "        to_write = universe.select_atoms('protein or segid MEMB')\n",
    "    else:\n",
    "        to_write = protein\n",
    "    \n",
    "    if wrapped: # does not work now because there is no box information read from DCD even though it is there...\n",
    "        print('wrapping')\n",
    "\n",
    "    \n",
    "        if include_membrane:\n",
    "            workflow = [trans.unwrap(protein),\n",
    "                    trans.center_in_box(protein, wrap=False),\n",
    "                    trans.wrap(membrane,compound='fragments')]\n",
    "        else:\n",
    "            workflow = [trans.unwrap(protein),\n",
    "                    trans.center_in_box(protein, wrap=False)]\n",
    "        \n",
    "        universe.trajectory.add_transformations(*workflow)\n",
    "\n",
    "    to_write.write(f+'protein-only-initial-frame.pdb',frames=universe.trajectory[[0]])\n",
    "    to_write.write(f+'protein-only.dcd',frames=universe.trajectory[1::stride])"
   ]
  }
 ],
 "metadata": {
  "kernelspec": {
   "display_name": "Python 3 (ipykernel)",
   "language": "python",
   "name": "python3"
  },
  "language_info": {
   "codemirror_mode": {
    "name": "ipython",
    "version": 3
   },
   "file_extension": ".py",
   "mimetype": "text/x-python",
   "name": "python",
   "nbconvert_exporter": "python",
   "pygments_lexer": "ipython3",
   "version": "3.11.6"
  }
 },
 "nbformat": 4,
 "nbformat_minor": 5
}
